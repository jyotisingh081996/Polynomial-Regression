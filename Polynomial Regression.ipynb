{
 "cells": [
  {
   "cell_type": "code",
   "execution_count": null,
   "id": "070f0578-a379-4196-a98e-125d4cc2881c",
   "metadata": {},
   "outputs": [],
   "source": [
    "import pandas as pd\n",
    "import matplotlib.pyplot as plt \n",
    "import seaborn as sns"
   ]
  },
  {
   "cell_type": "code",
   "execution_count": null,
   "id": "17bbb777-b2fb-4721-b215-d3384fa54c71",
   "metadata": {},
   "outputs": [],
   "source": [
    "dataset=pd.read_csv(r\"C:\\Users\\gky16\\OneDrive\\Desktop\\Dataset 1999\\Position_Salaries.csv\")\n",
    "dataset.head(3)"
   ]
  },
  {
   "cell_type": "code",
   "execution_count": null,
   "id": "320482b2-2b00-4b9d-b9a8-40bdf09eeaec",
   "metadata": {},
   "outputs": [],
   "source": [
    "dataset.corr"
   ]
  },
  {
   "cell_type": "code",
   "execution_count": null,
   "id": "a1f1329b-2f12-4113-b067-00464b4a2d77",
   "metadata": {},
   "outputs": [],
   "source": [
    "plt.scatter(dataset['Level'],dataset[\"Salary\"])\n",
    "plt.xlabel(\"Level\")\n",
    "plt.ylabel(\"Salary\")\n",
    "plt.show()"
   ]
  },
  {
   "cell_type": "code",
   "execution_count": null,
   "id": "7433de1a-66c7-4b4d-a19e-a3a4837948df",
   "metadata": {},
   "outputs": [],
   "source": [
    "x=dataset[[\"Level\"]]\n",
    "y=dataset[\"Salary\"]"
   ]
  },
  {
   "cell_type": "code",
   "execution_count": null,
   "id": "6dcc0841-8922-4f1f-bc8a-4f4b1b6ed5f6",
   "metadata": {},
   "outputs": [],
   "source": [
    "from sklearn.preprocessing import PolynomialFeatures"
   ]
  },
  {
   "cell_type": "code",
   "execution_count": null,
   "id": "843f2378-0dfc-4414-bfba-06350706a219",
   "metadata": {},
   "outputs": [],
   "source": [
    "pf=PolynomialFeatures(degree=2)\n",
    "pf.fit(x)\n",
    "x= pf.transform(x)"
   ]
  },
  {
   "cell_type": "code",
   "execution_count": null,
   "id": "d6a2a880-96f2-41a5-a1b6-1209cd8758ff",
   "metadata": {},
   "outputs": [],
   "source": [
    "from sklearn.model_selection import train_test_split"
   ]
  },
  {
   "cell_type": "code",
   "execution_count": null,
   "id": "a296c864-ccd9-426d-96a5-509685e5aab8",
   "metadata": {},
   "outputs": [],
   "source": [
    "x_train,x_test,y_train,y_test=train_test_split(x,y,test_size=0.2,random_state=42)"
   ]
  },
  {
   "cell_type": "code",
   "execution_count": null,
   "id": "6682c382-8d3a-471c-843d-b575ef352cd7",
   "metadata": {},
   "outputs": [],
   "source": [
    " from sklearn.linear_model import LinearRegression"
   ]
  },
  {
   "cell_type": "code",
   "execution_count": null,
   "id": "8efca69a-a357-4d8d-8efb-752dd36ecc24",
   "metadata": {},
   "outputs": [],
   "source": [
    "lr=LinearRegression()"
   ]
  },
  {
   "cell_type": "code",
   "execution_count": null,
   "id": "ddfb9553-272a-43ac-9497-2224cd152877",
   "metadata": {},
   "outputs": [],
   "source": [
    "lr.fit(x_test,y_test)"
   ]
  },
  {
   "cell_type": "code",
   "execution_count": null,
   "id": "3d66e2a7-a9e3-403b-9d13-b39e847fde68",
   "metadata": {},
   "outputs": [],
   "source": [
    "lr.score(x_test,y_test)*100"
   ]
  },
  {
   "cell_type": "code",
   "execution_count": null,
   "id": "2cf4966d-93d6-49db-918d-6d4c81c1d149",
   "metadata": {},
   "outputs": [],
   "source": [
    "prd = lr.predict(x)"
   ]
  },
  {
   "cell_type": "code",
   "execution_count": null,
   "id": "5c269635-adf5-4f20-98a8-b84e1245baa6",
   "metadata": {
    "scrolled": true
   },
   "outputs": [],
   "source": [
    "plt.scatter(dataset['Level'],dataset[\"Salary\"])\n",
    "plt.plot(dataset[\"Level\"],prd,c=\"red\")\n",
    "plt.xlabel(\"Level\")\n",
    "plt.ylabel(\"Salary\")\n",
    "plt.show()"
   ]
  },
  {
   "cell_type": "code",
   "execution_count": null,
   "id": "f2dfbb64-6e4e-4102-b4f6-015ef7d804fb",
   "metadata": {},
   "outputs": [],
   "source": [
    "lr.coef_"
   ]
  },
  {
   "cell_type": "code",
   "execution_count": null,
   "id": "d1a2d566-7004-4928-8e20-bc34185824ad",
   "metadata": {},
   "outputs": [],
   "source": [
    "lr.intercept_"
   ]
  },
  {
   "cell_type": "code",
   "execution_count": null,
   "id": "b42dd24d-6818-4e9a-9a7f-881fdb30403e",
   "metadata": {},
   "outputs": [],
   "source": [
    "#y=m1x1+m2x2^2+c"
   ]
  },
  {
   "cell_type": "code",
   "execution_count": null,
   "id": "723a47d2-6acf-4376-b6e9-7e05e672519a",
   "metadata": {},
   "outputs": [],
   "source": [
    "#y= 526.93208431*x1+5796.2529274+x2^2+25761.124121779867"
   ]
  },
  {
   "cell_type": "code",
   "execution_count": null,
   "id": "a605adf9-a54e-43dd-b535-6e5f5cb60ce1",
   "metadata": {},
   "outputs": [],
   "source": [
    "#test=pf.transform[[20]]\n",
    "#test"
   ]
  },
  {
   "cell_type": "code",
   "execution_count": null,
   "id": "1e591153-8cd7-4b35-93bd-97d7990e6dc6",
   "metadata": {},
   "outputs": [],
   "source": [
    "#lr.predict(test)"
   ]
  },
  {
   "cell_type": "code",
   "execution_count": null,
   "id": "c5313b8f-b193-4095-94f4-caa1499fef69",
   "metadata": {},
   "outputs": [],
   "source": []
  }
 ],
 "metadata": {
  "kernelspec": {
   "display_name": "Python 3 (ipykernel)",
   "language": "python",
   "name": "python3"
  },
  "language_info": {
   "codemirror_mode": {
    "name": "ipython",
    "version": 3
   },
   "file_extension": ".py",
   "mimetype": "text/x-python",
   "name": "python",
   "nbconvert_exporter": "python",
   "pygments_lexer": "ipython3",
   "version": "3.10.14"
  }
 },
 "nbformat": 4,
 "nbformat_minor": 5
}
